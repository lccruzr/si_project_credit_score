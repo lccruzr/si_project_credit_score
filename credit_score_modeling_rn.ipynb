{
 "cells": [
  {
   "cell_type": "markdown",
   "id": "70abcc76-143e-4dc9-bb11-e49c039af4bd",
   "metadata": {},
   "source": [
    "# Redes Neuronales para credit scoring."
   ]
  },
  {
   "cell_type": "code",
   "execution_count": 29,
   "id": "af609c72",
   "metadata": {},
   "outputs": [
    {
     "name": "stdout",
     "output_type": "stream",
     "text": [
      "<class 'pandas.core.frame.DataFrame'>\n",
      "RangeIndex: 1000 entries, 0 to 999\n",
      "Data columns (total 21 columns):\n",
      " #   Column               Non-Null Count  Dtype \n",
      "---  ------               --------------  ----- \n",
      " 0   checking_status      1000 non-null   object\n",
      " 1   duration             1000 non-null   int64 \n",
      " 2   credit_history       1000 non-null   object\n",
      " 3   purpose              1000 non-null   object\n",
      " 4   credit_amount        1000 non-null   int64 \n",
      " 5   savings              1000 non-null   object\n",
      " 6   employment           1000 non-null   object\n",
      " 7   installment_rate     1000 non-null   int64 \n",
      " 8   personal_status_sex  1000 non-null   object\n",
      " 9   other_debtors        1000 non-null   object\n",
      " 10  residence_since      1000 non-null   int64 \n",
      " 11  property             1000 non-null   object\n",
      " 12  age                  1000 non-null   int64 \n",
      " 13  installment_plans    1000 non-null   object\n",
      " 14  housing              1000 non-null   object\n",
      " 15  existing_credits     1000 non-null   int64 \n",
      " 16  job                  1000 non-null   object\n",
      " 17  num_dependents       1000 non-null   int64 \n",
      " 18  telephone            1000 non-null   object\n",
      " 19  foreign_worker       1000 non-null   object\n",
      " 20  class                1000 non-null   int64 \n",
      "dtypes: int64(8), object(13)\n",
      "memory usage: 164.2+ KB\n"
     ]
    }
   ],
   "source": [
    "import pandas as pd\n",
    "import numpy as np\n",
    "import torch\n",
    "\n",
    "\n",
    "# Carga de datos    \n",
    "df = pd.read_csv('df_credit_scoring.csv')\n",
    "df.info()"
   ]
  },
  {
   "cell_type": "code",
   "execution_count": 30,
   "id": "b3ec90db",
   "metadata": {},
   "outputs": [],
   "source": [
    "from sklearn.preprocessing import StandardScaler\n",
    "from sklearn.pipeline import Pipeline\n",
    "from sklearn.model_selection import train_test_split\n",
    "\n",
    "# Ejemplo de un pipeline para escalar características\n",
    "pipeline = Pipeline([\n",
    "    ('scaler', StandardScaler())\n",
    "])"
   ]
  },
  {
   "cell_type": "code",
   "execution_count": 42,
   "id": "ab097609",
   "metadata": {},
   "outputs": [],
   "source": [
    "import torch\n",
    "import torch.nn as nn\n",
    "import torch.optim as optim\n",
    "from sklearn.base import BaseEstimator, ClassifierMixin\n",
    "\n",
    "# Crear el wrapper de PyTorchClassifier\n",
    "class PyTorchClassifier(BaseEstimator, ClassifierMixin):\n",
    "    def __init__(self, model, epochs=10, lr=0.001, batch_size=32):\n",
    "        self.model = model\n",
    "        self.epochs = epochs\n",
    "        self.lr = lr\n",
    "        self.batch_size = batch_size\n",
    "        self.criterion = nn.CrossEntropyLoss()\n",
    "        \n",
    "    def fit(self, X, y):\n",
    "        X_tensor = torch.tensor(X, dtype=torch.float32)\n",
    "        y_tensor = torch.tensor(y, dtype=torch.long)\n",
    "        \n",
    "        # Definir el optimizador\n",
    "        optimizer = optim.Adam(self.model.parameters(), lr=self.lr)\n",
    "        \n",
    "        # Entrenamiento\n",
    "        for epoch in range(self.epochs):\n",
    "            optimizer.zero_grad()\n",
    "            outputs = self.model(X_tensor)\n",
    "            loss = self.criterion(outputs, y_tensor)\n",
    "            loss.backward()\n",
    "            optimizer.step()\n",
    "        return self\n",
    "    \n",
    "    def predict(self, X):\n",
    "        X_tensor = torch.tensor(X, dtype=torch.float32)\n",
    "        with torch.no_grad():\n",
    "            outputs = self.model(X_tensor)\n",
    "        _, predicted = torch.max(outputs, 1)\n",
    "        return predicted.numpy()\n",
    "\n",
    "    def predict_proba(self, X):\n",
    "        X_tensor = torch.tensor(X, dtype=torch.float32)\n",
    "        with torch.no_grad():\n",
    "            outputs = self.model(X_tensor)\n",
    "        probabilities = nn.Softmax(dim=1)(outputs)\n",
    "        return probabilities.numpy()"
   ]
  },
  {
   "cell_type": "code",
   "execution_count": 64,
   "id": "23dd86da",
   "metadata": {},
   "outputs": [],
   "source": [
    "class ConvNet1D(nn.Module):\n",
    "    def __init__(self, input_channels, num_classes):\n",
    "        super(ConvNet1D, self).__init__()\n",
    "        \n",
    "        # Definir las capas convolucionales y de pooling\n",
    "        self.conv1 = nn.Conv1d(in_channels=input_channels, out_channels=16, kernel_size=3, padding=1)\n",
    "        self.relu = nn.ReLU()\n",
    "        self.pool = nn.MaxPool1d(kernel_size=2, stride=2)\n",
    "        \n",
    "        self.conv2 = nn.Conv1d(in_channels=16, out_channels=32, kernel_size=3, padding=1)\n",
    "        self.pool2 = nn.MaxPool1d(kernel_size=2, stride=2)\n",
    "        \n",
    "        # Las capas totalmente conectadas (fc) se definirán dinámicamente\n",
    "        self.fc1 = None\n",
    "        self.fc2 = nn.Linear(128, num_classes)\n",
    "\n",
    "    def forward(self, x):\n",
    "        x = self.pool(self.relu(self.conv1(x)))\n",
    "        x = self.pool2(self.relu(self.conv2(x)))\n",
    "\n",
    "        # Aplanar el tensor antes de las capas totalmente conectadas\n",
    "        x = x.view(x.size(0), -1)\n",
    "        \n",
    "        # Crear la capa fc1 dinámicamente en función del tamaño de la salida\n",
    "        if self.fc1 is None:\n",
    "            self.fc1 = nn.Linear(x.size(1), 128)\n",
    "        \n",
    "        x = self.relu(self.fc1(x))\n",
    "        x = self.fc2(x)\n",
    "        return x"
   ]
  },
  {
   "cell_type": "code",
   "execution_count": 103,
   "id": "35b8a6bb",
   "metadata": {},
   "outputs": [
    {
     "name": "stdout",
     "output_type": "stream",
     "text": [
      "Loss: 0.6946545839309692\n"
     ]
    }
   ],
   "source": [
    "# Parámetros\n",
    "input_channels = 1  # Número de canales de entrada (p. ej. 1 si es un vector 1D)\n",
    "num_classes = 2    # Número de clases a predecir\n",
    "batch_size = 16     # Tamaño del batch\n",
    "sequence_length = 20  # Longitud de las secuencias 1D\n",
    "\n",
    "# Crear una instancia del modelo\n",
    "model = ConvNet1D(input_channels=input_channels, num_classes=num_classes)\n",
    "\n",
    "# Definir un optimizador y una función de pérdida\n",
    "optimizer = optim.Adam(model.parameters(), lr=0.001)\n",
    "criterion = nn.CrossEntropyLoss()\n",
    "\n",
    "# Ejemplo de entrada (batch de secuencias 1D)\n",
    "inputs = torch.randn(batch_size, input_channels, sequence_length)\n",
    "labels = torch.randint(0, num_classes, (batch_size,))\n",
    "\n",
    "# Paso hacia adelante (forward)\n",
    "outputs = model(inputs)\n",
    "\n",
    "# Cálculo de la pérdida\n",
    "loss = criterion(outputs, labels)\n",
    "\n",
    "# Paso hacia atrás (backward) y optimización\n",
    "optimizer.zero_grad()\n",
    "loss.backward()\n",
    "optimizer.step()\n",
    "\n",
    "print(\"Loss:\", loss.item())"
   ]
  },
  {
   "cell_type": "code",
   "execution_count": 68,
   "id": "7d50b228",
   "metadata": {},
   "outputs": [
    {
     "data": {
      "text/plain": [
       "torch.Size([16, 1, 20])"
      ]
     },
     "execution_count": 68,
     "metadata": {},
     "output_type": "execute_result"
    }
   ],
   "source": [
    "inputs.shape\n"
   ]
  },
  {
   "cell_type": "code",
   "execution_count": 76,
   "id": "c7728322",
   "metadata": {},
   "outputs": [
    {
     "data": {
      "text/plain": [
       "Index(['checking_status', 'duration', 'credit_history', 'purpose',\n",
       "       'credit_amount', 'savings', 'employment', 'installment_rate',\n",
       "       'personal_status_sex', 'other_debtors', 'residence_since', 'property',\n",
       "       'age', 'installment_plans', 'housing', 'existing_credits', 'job',\n",
       "       'num_dependents', 'telephone', 'foreign_worker', 'class'],\n",
       "      dtype='object')"
      ]
     },
     "execution_count": 76,
     "metadata": {},
     "output_type": "execute_result"
    }
   ],
   "source": [
    "df.columns"
   ]
  },
  {
   "cell_type": "code",
   "execution_count": 102,
   "id": "d13940ab",
   "metadata": {},
   "outputs": [
    {
     "data": {
      "text/plain": [
       "class\n",
       "0    0.7\n",
       "1    0.3\n",
       "Name: proportion, dtype: float64"
      ]
     },
     "execution_count": 102,
     "metadata": {},
     "output_type": "execute_result"
    }
   ],
   "source": [
    "(df['class']-1).value_counts(normalize= True)"
   ]
  },
  {
   "cell_type": "code",
   "execution_count": 125,
   "id": "04b1aed2",
   "metadata": {},
   "outputs": [
    {
     "name": "stdout",
     "output_type": "stream",
     "text": [
      "[1 0 0 0 0 0 0 1 1 1 0 0 1 0 0 0 0 0 0 0 0 0 0 0 0 0 0 0 1 0 0 0 1 0 0 0 0\n",
      " 0 0 0 0 0 0 0 0 0 0 0 0 0 0 1 0 0 0 1 0 0 0 0 0 0 0 0 1 0 0 0 0 0 1 0 0 0\n",
      " 1 1 1 0 0 0 0 0 0 0 1 0 1 0 1 0 1 0 1 0 0 0 0 0 0 1]\n"
     ]
    }
   ],
   "source": [
    "from sklearn.datasets import make_classification\n",
    "from sklearn.model_selection import train_test_split\n",
    "from sklearn.pipeline import Pipeline\n",
    "from sklearn.compose import ColumnTransformer\n",
    "from sklearn.preprocessing import StandardScaler, OneHotEncoder, MinMaxScaler\n",
    "from sklearn.impute import SimpleImputer\n",
    "\n",
    "# Dividir los datos en entrenamiento y prueba\n",
    "X_train, X_test_val, y_train, y_test_val = train_test_split(df.drop(columns=['class']),\n",
    "                                                            df['class']-1,\n",
    "                                                            test_size=0.2)\n",
    "X_test, X_val, y_test, y_val = train_test_split(X_test_val, y_test_val, test_size=0.5)\n",
    "\n",
    "# Dividir las columnas numéricas y categóricas\n",
    "numerical_features = X_train.select_dtypes(include=['float64', 'int64']).columns.tolist()\n",
    "categorical_features = X_train.select_dtypes(include=['object']).columns.tolist()\n",
    "\n",
    "# Definir el preprocesador para las columnas numéricas\n",
    "numerical_transformer = Pipeline(steps=[\n",
    "    ('imputer', SimpleImputer(strategy='mean')),  # Imputación con la media\n",
    "    ('scaler', MinMaxScaler())                    # Escalado Min-Max\n",
    "])\n",
    "\n",
    "# Definir el preprocesador para las columnas categóricas\n",
    "categorical_transformer = Pipeline(steps=[\n",
    "    ('imputer', SimpleImputer(strategy='most_frequent')),  # Imputación con la moda\n",
    "    ('onehot', OneHotEncoder(handle_unknown='ignore'))     # Codificación One-Hot\n",
    "])\n",
    "\n",
    "# Combinar ambos preprocesadores en un ColumnTransformer\n",
    "preprocessor = ColumnTransformer(\n",
    "    transformers=[\n",
    "        ('num', numerical_transformer, numerical_features),\n",
    "        ('cat', categorical_transformer, categorical_features)\n",
    "    ])\n",
    "\n",
    "# Pipeline de preprocesamiento\n",
    "pipeline = Pipeline(steps=[('preprocessor', preprocessor)])\n",
    "\n",
    "# Escalar las características de entrenamiento y prueba\n",
    "X_train_transformed = pipeline.fit_transform(X_train)\n",
    "X_test_transformed = pipeline.transform(X_test)\n",
    "\n",
    "# Paso 2: Redimensionar los datos para que sean compatibles con Conv1D (batch_size, 1, sequence_length)\n",
    "X_train_reshaped = X_train_transformed.reshape(X_train_transformed.shape[0], 1, X_train_transformed.shape[1])\n",
    "X_test_reshaped = X_test_transformed.reshape(X_test_transformed.shape[0], 1, X_test_transformed.shape[1])\n",
    "\n",
    "\n",
    "# Definir el pipeline con el clasificador de PyTorch\n",
    "model = ConvNet1D(input_channels=1, num_classes=2)\n",
    "pytorch_clf = PyTorchClassifier(model=model, epochs=200)\n",
    "\n",
    "model_pipeline = Pipeline([\n",
    "    ('classifier', pytorch_clf)\n",
    "])\n",
    "\n",
    "# Entrenar el pipeline\n",
    "model_pipeline.fit(X_train_reshaped, y_train)\n",
    "\n",
    "# Hacer predicciones\n",
    "predictions = model_pipeline.predict(X_test_reshaped)\n",
    "print(predictions)"
   ]
  },
  {
   "cell_type": "code",
   "execution_count": 127,
   "id": "9228961a",
   "metadata": {},
   "outputs": [
    {
     "name": "stdout",
     "output_type": "stream",
     "text": [
      "              precision    recall  f1-score   support\n",
      "\n",
      "           0       0.80      0.89      0.84        72\n",
      "           1       0.60      0.43      0.50        28\n",
      "\n",
      "    accuracy                           0.76       100\n",
      "   macro avg       0.70      0.66      0.67       100\n",
      "weighted avg       0.74      0.76      0.75       100\n",
      "\n"
     ]
    }
   ],
   "source": [
    "from sklearn.metrics import classification_report\n",
    "\n",
    "print(classification_report(y_test, predictions))"
   ]
  },
  {
   "cell_type": "code",
   "execution_count": 128,
   "id": "aabe9e34",
   "metadata": {},
   "outputs": [
    {
     "data": {
      "text/plain": [
       "array([0.48424444, 0.5581329 , 0.6561995 , 0.61704385, 0.61617804,\n",
       "       0.5868509 , 0.5925594 , 0.43225968, 0.48203754, 0.4711819 ,\n",
       "       0.6332621 , 0.6805263 , 0.44443253, 0.777389  , 0.6828494 ,\n",
       "       0.5288065 , 0.8907697 , 0.8507227 , 0.71818304, 0.9434105 ,\n",
       "       0.69232583, 0.9387541 , 0.6806935 , 0.5137271 , 0.79180825,\n",
       "       0.9416888 , 0.7038826 , 0.6583898 , 0.4697754 , 0.8938524 ,\n",
       "       0.7430609 , 0.6567351 , 0.41047695, 0.7006605 , 0.80062336,\n",
       "       0.8051268 , 0.8771317 , 0.8132226 , 0.5013436 , 0.8903877 ,\n",
       "       0.6144134 , 0.8438006 , 0.78378487, 0.8800385 , 0.91559696,\n",
       "       0.9452706 , 0.6522447 , 0.74193686, 0.53039783, 0.77936167,\n",
       "       0.68516284, 0.34129247, 0.93410337, 0.8780921 , 0.8981212 ,\n",
       "       0.46875155, 0.70335424, 0.77987015, 0.6619937 , 0.50744843,\n",
       "       0.95884776, 0.5455804 , 0.92277306, 0.70553356, 0.39754364,\n",
       "       0.7047104 , 0.69551677, 0.76732916, 0.88883126, 0.8302914 ,\n",
       "       0.36904934, 0.782319  , 0.66783434, 0.89774054, 0.27765816,\n",
       "       0.4292708 , 0.46859643, 0.5723959 , 0.94936657, 0.8466012 ,\n",
       "       0.86141783, 0.81509817, 0.8880789 , 0.7967303 , 0.44958597,\n",
       "       0.62526053, 0.49008265, 0.76728934, 0.4692241 , 0.7848176 ,\n",
       "       0.48217392, 0.8789524 , 0.27188236, 0.8259332 , 0.78501576,\n",
       "       0.6214337 , 0.8289766 , 0.8155642 , 0.5429    , 0.3751215 ],\n",
       "      dtype=float32)"
      ]
     },
     "execution_count": 128,
     "metadata": {},
     "output_type": "execute_result"
    }
   ],
   "source": [
    "probas = model_pipeline.predict_proba(X_test_reshaped)\n",
    "\n",
    "probas[:, 0]"
   ]
  },
  {
   "cell_type": "code",
   "execution_count": 129,
   "id": "e42d8c67",
   "metadata": {},
   "outputs": [
    {
     "data": {
      "text/plain": [
       "class\n",
       "0    72\n",
       "1    28\n",
       "Name: count, dtype: int64"
      ]
     },
     "execution_count": 129,
     "metadata": {},
     "output_type": "execute_result"
    }
   ],
   "source": [
    "y_test.value_counts()"
   ]
  },
  {
   "cell_type": "code",
   "execution_count": 130,
   "id": "09c51c68",
   "metadata": {},
   "outputs": [
    {
     "name": "stdout",
     "output_type": "stream",
     "text": [
      "0.6153846153846154\n",
      "0.3535353535353536\n"
     ]
    },
    {
     "data": {
      "image/png": "[encoded data removed]",
      "text/plain": [
       "<Figure size 640x480 with 1 Axes>"
      ]
     },
     "metadata": {},
     "output_type": "display_data"
    }
   ],
   "source": [
    "from sklearn.metrics import f1_score\n",
    "from matplotlib import pyplot as plt\n",
    "\n",
    "thresholds = []\n",
    "f1s = []\n",
    "\n",
    "for proba in np.linspace(start=0, stop=1, num=100):\n",
    "    y_pred_proba = np.where(probas[:, 1]< proba, 0, 1)\n",
    "    thresholds.append(proba)\n",
    "    f1s.append(f1_score(y_test, y_pred_proba))\n",
    "\n",
    "plt.plot(thresholds, f1s)\n",
    "\n",
    "\n",
    "print(max(f1s))\n",
    "print(thresholds[np.argmax(f1s)])"
   ]
  },
  {
   "cell_type": "code",
   "execution_count": null,
   "id": "998f8c46",
   "metadata": {},
   "outputs": [],
   "source": []
  }
 ],
 "metadata": {
  "kernelspec": {
   "display_name": "Python 3 (ipykernel)",
   "language": "python",
   "name": "python3"
  },
  "language_info": {
   "codemirror_mode": {
    "name": "ipython",
    "version": 3
   },
   "file_extension": ".py",
   "mimetype": "text/x-python",
   "name": "python",
   "nbconvert_exporter": "python",
   "pygments_lexer": "ipython3",
   "version": "3.11.7"
  }
 },
 "nbformat": 4,
 "nbformat_minor": 5
}
